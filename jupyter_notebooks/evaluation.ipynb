{
 "cells": [
  {
   "cell_type": "code",
   "execution_count": 2,
   "id": "biological-vermont",
   "metadata": {},
   "outputs": [],
   "source": [
    "import json \n",
    "import pandas as pd\n",
    "import numpy as np\n",
    "from tqdm import tqdm"
   ]
  },
  {
   "cell_type": "code",
   "execution_count": 3,
   "id": "cleared-supplement",
   "metadata": {},
   "outputs": [],
   "source": [
    "# triples with original refs\n",
    "# 30 dropout runs    \n",
    "# each triple has mean and std score\n",
    "\n",
    "# f = open ('/media/hdd1/glushkovato/comet/segments.json', \"r\") \n",
    "# f = open ('/media/hdd1/glushkovato/comet/test-out.json', \"r\") \n",
    "f = open ('/media/hdd1/glushkovato/comet/segments-arp-ref-norm.json', \"r\") \n",
    "\n",
    "data = json.loads(f.read()) \n",
    "f.close() "
   ]
  },
  {
   "cell_type": "code",
   "execution_count": 31,
   "id": "powerful-shepherd",
   "metadata": {},
   "outputs": [
    {
     "name": "stdout",
     "output_type": "stream",
     "text": [
      "0\n",
      "[0 1 2]\n",
      "3\n",
      "[3 4 5]\n",
      "6\n",
      "[6 7 8]\n",
      "9\n",
      "[ 9 10 11]\n",
      "12\n",
      "[12 13 14]\n"
     ]
    }
   ],
   "source": [
    "tmp_list = np.arange(5*3)\n",
    "for i in range(0, len(tmp_list), 3):\n",
    "    print(i)\n",
    "    print(tmp_list[i:i+3])"
   ]
  },
  {
   "cell_type": "code",
   "execution_count": 32,
   "id": "correct-functionality",
   "metadata": {},
   "outputs": [
    {
     "data": {
      "text/plain": [
       "array([ 0,  1,  2,  3,  4,  5,  6,  7,  8,  9, 10, 11, 12, 13, 14])"
      ]
     },
     "execution_count": 32,
     "metadata": {},
     "output_type": "execute_result"
    }
   ],
   "source": [
    "tmp_list"
   ]
  },
  {
   "cell_type": "code",
   "execution_count": 4,
   "id": "verbal-dimension",
   "metadata": {},
   "outputs": [
    {
     "data": {
      "text/plain": [
       "{'src': \"Welsh AMs worried about 'looking like muppets'\",\n",
       " 'mt': 'Waliser AMs besorgt darüber, „wie Muppets auszusehen“',\n",
       " 'ref': 'Abgeordnete aus Wales hatten Angst, das Bild von „Dummköpfen“ abzugeben.',\n",
       " 'predicted_score_mean': -2.9176501719253505,\n",
       " 'predicted_score_std': 0.07270077603323168}"
      ]
     },
     "execution_count": 4,
     "metadata": {},
     "output_type": "execute_result"
    }
   ],
   "source": [
    "data[0]"
   ]
  },
  {
   "cell_type": "code",
   "execution_count": 3,
   "id": "incredible-transsexual",
   "metadata": {},
   "outputs": [
    {
     "data": {
      "text/plain": [
       "{'src': \"Welsh AMs worried about 'looking like muppets'\",\n",
       " 'mt': 'Waliser AMs besorgt darüber, „wie Muppets auszusehen“',\n",
       " 'ref': 'Walisische Ageordnete sorgen sich \"wie Dödel auszusehen\"',\n",
       " 'predicted_score_mean': 0.020787975875039895,\n",
       " 'predicted_score_std': 0.03779939989487407}"
      ]
     },
     "execution_count": 3,
     "metadata": {},
     "output_type": "execute_result"
    }
   ],
   "source": [
    "# data[0]"
   ]
  },
  {
   "cell_type": "code",
   "execution_count": 5,
   "id": "induced-overhead",
   "metadata": {},
   "outputs": [],
   "source": [
    "lines = []\n",
    "for i in data:\n",
    "    lines.append([i['src'], i['mt'], i['ref'], i['predicted_score_mean'], i['predicted_score_std']])"
   ]
  },
  {
   "cell_type": "code",
   "execution_count": 6,
   "id": "usual-bibliography",
   "metadata": {},
   "outputs": [
    {
     "data": {
      "text/html": [
       "<div>\n",
       "<style scoped>\n",
       "    .dataframe tbody tr th:only-of-type {\n",
       "        vertical-align: middle;\n",
       "    }\n",
       "\n",
       "    .dataframe tbody tr th {\n",
       "        vertical-align: top;\n",
       "    }\n",
       "\n",
       "    .dataframe thead th {\n",
       "        text-align: right;\n",
       "    }\n",
       "</style>\n",
       "<table border=\"1\" class=\"dataframe\">\n",
       "  <thead>\n",
       "    <tr style=\"text-align: right;\">\n",
       "      <th></th>\n",
       "      <th>src</th>\n",
       "      <th>mt</th>\n",
       "      <th>ref</th>\n",
       "      <th>predicted_score_mean</th>\n",
       "      <th>predicted_score_std</th>\n",
       "    </tr>\n",
       "  </thead>\n",
       "  <tbody>\n",
       "    <tr>\n",
       "      <th>0</th>\n",
       "      <td>Welsh AMs worried about 'looking like muppets'</td>\n",
       "      <td>Waliser AMs besorgt darüber, „wie Muppets ausz...</td>\n",
       "      <td>Abgeordnete aus Wales hatten Angst, das Bild v...</td>\n",
       "      <td>-2.9176501719253505</td>\n",
       "      <td>0.07270077603323168</td>\n",
       "    </tr>\n",
       "    <tr>\n",
       "      <th>1</th>\n",
       "      <td>There is consternation among some AMs at a sug...</td>\n",
       "      <td>Bei einigen AMs herrscht Bestürzung über einen...</td>\n",
       "      <td>Mehrere AMs zeigten sich betroffen angesichts ...</td>\n",
       "      <td>0.30622523561877824</td>\n",
       "      <td>0.11615332493598031</td>\n",
       "    </tr>\n",
       "    <tr>\n",
       "      <th>2</th>\n",
       "      <td>It has arisen because of plans to change the n...</td>\n",
       "      <td>Sie ist aufgrund von Plänen entstanden, den Na...</td>\n",
       "      <td>Dazu kam es aufgrund von Ideen, die Versammlun...</td>\n",
       "      <td>0.004673435747534851</td>\n",
       "      <td>0.08099723127637815</td>\n",
       "    </tr>\n",
       "  </tbody>\n",
       "</table>\n",
       "</div>"
      ],
      "text/plain": [
       "                                                 src  \\\n",
       "0     Welsh AMs worried about 'looking like muppets'   \n",
       "1  There is consternation among some AMs at a sug...   \n",
       "2  It has arisen because of plans to change the n...   \n",
       "\n",
       "                                                  mt  \\\n",
       "0  Waliser AMs besorgt darüber, „wie Muppets ausz...   \n",
       "1  Bei einigen AMs herrscht Bestürzung über einen...   \n",
       "2  Sie ist aufgrund von Plänen entstanden, den Na...   \n",
       "\n",
       "                                                 ref  predicted_score_mean  \\\n",
       "0  Abgeordnete aus Wales hatten Angst, das Bild v...   -2.9176501719253505   \n",
       "1  Mehrere AMs zeigten sich betroffen angesichts ...   0.30622523561877824   \n",
       "2  Dazu kam es aufgrund von Ideen, die Versammlun...  0.004673435747534851   \n",
       "\n",
       "   predicted_score_std  \n",
       "0  0.07270077603323168  \n",
       "1  0.11615332493598031  \n",
       "2  0.08099723127637815  "
      ]
     },
     "execution_count": 6,
     "metadata": {},
     "output_type": "execute_result"
    }
   ],
   "source": [
    "df = pd.DataFrame(data=np.array(lines), \n",
    "                  columns=['src','mt', 'ref', 'predicted_score_mean','predicted_score_std'])\n",
    "\n",
    "df.iloc[:3]"
   ]
  },
  {
   "cell_type": "code",
   "execution_count": 7,
   "id": "welcome-recruitment",
   "metadata": {},
   "outputs": [
    {
     "data": {
      "text/html": [
       "<div>\n",
       "<style scoped>\n",
       "    .dataframe tbody tr th:only-of-type {\n",
       "        vertical-align: middle;\n",
       "    }\n",
       "\n",
       "    .dataframe tbody tr th {\n",
       "        vertical-align: top;\n",
       "    }\n",
       "\n",
       "    .dataframe thead th {\n",
       "        text-align: right;\n",
       "    }\n",
       "</style>\n",
       "<table border=\"1\" class=\"dataframe\">\n",
       "  <thead>\n",
       "    <tr style=\"text-align: right;\">\n",
       "      <th></th>\n",
       "      <th>src</th>\n",
       "      <th>ref</th>\n",
       "      <th>extra_ref</th>\n",
       "      <th>Facebook_FAIR.6862</th>\n",
       "      <th>SID</th>\n",
       "      <th>raw_score</th>\n",
       "      <th>z_score</th>\n",
       "      <th>z_score_norm</th>\n",
       "      <th>raw_score_norm</th>\n",
       "      <th>annotators</th>\n",
       "    </tr>\n",
       "  </thead>\n",
       "  <tbody>\n",
       "    <tr>\n",
       "      <th>0</th>\n",
       "      <td>Welsh AMs worried about 'looking like muppets'</td>\n",
       "      <td>Walisische Ageordnete sorgen sich \"wie Dödel a...</td>\n",
       "      <td>Walisische Abgeordnete befürchten als ,Idioten...</td>\n",
       "      <td>Waliser AMs besorgt darüber, „wie Muppets ausz...</td>\n",
       "      <td>0</td>\n",
       "      <td>NaN</td>\n",
       "      <td>NaN</td>\n",
       "      <td>NaN</td>\n",
       "      <td>NaN</td>\n",
       "      <td>NaN</td>\n",
       "    </tr>\n",
       "    <tr>\n",
       "      <th>1</th>\n",
       "      <td>There is consternation among some AMs at a sug...</td>\n",
       "      <td>Es herrscht Bestürzung unter einigen Mitgliede...</td>\n",
       "      <td>Bei einigen AMs herrscht Fassungslosigkeit übe...</td>\n",
       "      <td>Bei einigen AMs herrscht Bestürzung über einen...</td>\n",
       "      <td>1</td>\n",
       "      <td>96.5</td>\n",
       "      <td>0.696150</td>\n",
       "      <td>0.591311</td>\n",
       "      <td>0.410417</td>\n",
       "      <td>2.0</td>\n",
       "    </tr>\n",
       "    <tr>\n",
       "      <th>2</th>\n",
       "      <td>It has arisen because of plans to change the n...</td>\n",
       "      <td>Der Grund dafür waren Pläne, den Namen der Nat...</td>\n",
       "      <td>Es kam wegen Plänen auf, den Namen der Versamm...</td>\n",
       "      <td>Sie ist aufgrund von Plänen entstanden, den Na...</td>\n",
       "      <td>2</td>\n",
       "      <td>68.0</td>\n",
       "      <td>-0.652806</td>\n",
       "      <td>-1.690535</td>\n",
       "      <td>-1.485173</td>\n",
       "      <td>1.0</td>\n",
       "    </tr>\n",
       "  </tbody>\n",
       "</table>\n",
       "</div>"
      ],
      "text/plain": [
       "                                                 src  \\\n",
       "0     Welsh AMs worried about 'looking like muppets'   \n",
       "1  There is consternation among some AMs at a sug...   \n",
       "2  It has arisen because of plans to change the n...   \n",
       "\n",
       "                                                 ref  \\\n",
       "0  Walisische Ageordnete sorgen sich \"wie Dödel a...   \n",
       "1  Es herrscht Bestürzung unter einigen Mitgliede...   \n",
       "2  Der Grund dafür waren Pläne, den Namen der Nat...   \n",
       "\n",
       "                                           extra_ref  \\\n",
       "0  Walisische Abgeordnete befürchten als ,Idioten...   \n",
       "1  Bei einigen AMs herrscht Fassungslosigkeit übe...   \n",
       "2  Es kam wegen Plänen auf, den Namen der Versamm...   \n",
       "\n",
       "                                  Facebook_FAIR.6862  SID  raw_score  \\\n",
       "0  Waliser AMs besorgt darüber, „wie Muppets ausz...    0        NaN   \n",
       "1  Bei einigen AMs herrscht Bestürzung über einen...    1       96.5   \n",
       "2  Sie ist aufgrund von Plänen entstanden, den Na...    2       68.0   \n",
       "\n",
       "    z_score  z_score_norm  raw_score_norm  annotators  \n",
       "0       NaN           NaN             NaN         NaN  \n",
       "1  0.696150      0.591311        0.410417         2.0  \n",
       "2 -0.652806     -1.690535       -1.485173         1.0  "
      ]
     },
     "execution_count": 7,
     "metadata": {},
     "output_type": "execute_result"
    }
   ],
   "source": [
    "da_scores = pd.read_csv('/media/hdd1/glushkovato/comet/COMET_uncertainty/data/da_scores_combined_ref.csv')\n",
    "da_scores.iloc[:3]"
   ]
  },
  {
   "cell_type": "code",
   "execution_count": 8,
   "id": "corrected-india",
   "metadata": {},
   "outputs": [],
   "source": [
    "df['z_score'] = da_scores['z_score'].tolist()\n",
    "df['z_score_norm'] = da_scores['z_score_norm'].tolist()\n",
    "\n",
    "cols = ['predicted_score_mean', 'predicted_score_std', 'z_score', 'z_score_norm']\n",
    "df[cols] = df[cols].apply(pd.to_numeric, errors='coerce', axis=1)"
   ]
  },
  {
   "cell_type": "code",
   "execution_count": 9,
   "id": "integral-there",
   "metadata": {},
   "outputs": [
    {
     "data": {
      "text/html": [
       "<div>\n",
       "<style scoped>\n",
       "    .dataframe tbody tr th:only-of-type {\n",
       "        vertical-align: middle;\n",
       "    }\n",
       "\n",
       "    .dataframe tbody tr th {\n",
       "        vertical-align: top;\n",
       "    }\n",
       "\n",
       "    .dataframe thead th {\n",
       "        text-align: right;\n",
       "    }\n",
       "</style>\n",
       "<table border=\"1\" class=\"dataframe\">\n",
       "  <thead>\n",
       "    <tr style=\"text-align: right;\">\n",
       "      <th></th>\n",
       "      <th>src</th>\n",
       "      <th>mt</th>\n",
       "      <th>ref</th>\n",
       "      <th>predicted_score_mean</th>\n",
       "      <th>predicted_score_std</th>\n",
       "      <th>z_score</th>\n",
       "      <th>z_score_norm</th>\n",
       "    </tr>\n",
       "  </thead>\n",
       "  <tbody>\n",
       "    <tr>\n",
       "      <th>0</th>\n",
       "      <td>Welsh AMs worried about 'looking like muppets'</td>\n",
       "      <td>Waliser AMs besorgt darüber, „wie Muppets ausz...</td>\n",
       "      <td>Abgeordnete aus Wales hatten Angst, das Bild v...</td>\n",
       "      <td>-2.917650</td>\n",
       "      <td>0.072701</td>\n",
       "      <td>NaN</td>\n",
       "      <td>NaN</td>\n",
       "    </tr>\n",
       "    <tr>\n",
       "      <th>1</th>\n",
       "      <td>There is consternation among some AMs at a sug...</td>\n",
       "      <td>Bei einigen AMs herrscht Bestürzung über einen...</td>\n",
       "      <td>Mehrere AMs zeigten sich betroffen angesichts ...</td>\n",
       "      <td>0.306225</td>\n",
       "      <td>0.116153</td>\n",
       "      <td>0.696150</td>\n",
       "      <td>0.591311</td>\n",
       "    </tr>\n",
       "    <tr>\n",
       "      <th>2</th>\n",
       "      <td>It has arisen because of plans to change the n...</td>\n",
       "      <td>Sie ist aufgrund von Plänen entstanden, den Na...</td>\n",
       "      <td>Dazu kam es aufgrund von Ideen, die Versammlun...</td>\n",
       "      <td>0.004673</td>\n",
       "      <td>0.080997</td>\n",
       "      <td>-0.652806</td>\n",
       "      <td>-1.690535</td>\n",
       "    </tr>\n",
       "    <tr>\n",
       "      <th>3</th>\n",
       "      <td>AMs across the political spectrum are worried ...</td>\n",
       "      <td>AMs im gesamten politischen Spektrum sind beso...</td>\n",
       "      <td>Assembly Members aus allen Parteien haben Angs...</td>\n",
       "      <td>-0.637937</td>\n",
       "      <td>0.097642</td>\n",
       "      <td>-0.013827</td>\n",
       "      <td>-0.609661</td>\n",
       "    </tr>\n",
       "    <tr>\n",
       "      <th>4</th>\n",
       "      <td>One Labour AM said his group was concerned \"it...</td>\n",
       "      <td>Ein Labour AM sagte, seine Gruppe sei besorgt,...</td>\n",
       "      <td>Laut Aussage eines Abgeordneten der Labour-Par...</td>\n",
       "      <td>-0.365621</td>\n",
       "      <td>0.080398</td>\n",
       "      <td>0.246498</td>\n",
       "      <td>-0.169304</td>\n",
       "    </tr>\n",
       "  </tbody>\n",
       "</table>\n",
       "</div>"
      ],
      "text/plain": [
       "                                                 src  \\\n",
       "0     Welsh AMs worried about 'looking like muppets'   \n",
       "1  There is consternation among some AMs at a sug...   \n",
       "2  It has arisen because of plans to change the n...   \n",
       "3  AMs across the political spectrum are worried ...   \n",
       "4  One Labour AM said his group was concerned \"it...   \n",
       "\n",
       "                                                  mt  \\\n",
       "0  Waliser AMs besorgt darüber, „wie Muppets ausz...   \n",
       "1  Bei einigen AMs herrscht Bestürzung über einen...   \n",
       "2  Sie ist aufgrund von Plänen entstanden, den Na...   \n",
       "3  AMs im gesamten politischen Spektrum sind beso...   \n",
       "4  Ein Labour AM sagte, seine Gruppe sei besorgt,...   \n",
       "\n",
       "                                                 ref  predicted_score_mean  \\\n",
       "0  Abgeordnete aus Wales hatten Angst, das Bild v...             -2.917650   \n",
       "1  Mehrere AMs zeigten sich betroffen angesichts ...              0.306225   \n",
       "2  Dazu kam es aufgrund von Ideen, die Versammlun...              0.004673   \n",
       "3  Assembly Members aus allen Parteien haben Angs...             -0.637937   \n",
       "4  Laut Aussage eines Abgeordneten der Labour-Par...             -0.365621   \n",
       "\n",
       "   predicted_score_std   z_score  z_score_norm  \n",
       "0             0.072701       NaN           NaN  \n",
       "1             0.116153  0.696150      0.591311  \n",
       "2             0.080997 -0.652806     -1.690535  \n",
       "3             0.097642 -0.013827     -0.609661  \n",
       "4             0.080398  0.246498     -0.169304  "
      ]
     },
     "execution_count": 9,
     "metadata": {},
     "output_type": "execute_result"
    }
   ],
   "source": [
    "df.head()"
   ]
  },
  {
   "cell_type": "code",
   "execution_count": 10,
   "id": "foreign-agency",
   "metadata": {},
   "outputs": [
    {
     "data": {
      "text/plain": [
       "(1997, 7)"
      ]
     },
     "execution_count": 10,
     "metadata": {},
     "output_type": "execute_result"
    }
   ],
   "source": [
    "df.shape"
   ]
  },
  {
   "cell_type": "code",
   "execution_count": 11,
   "id": "danish-dublin",
   "metadata": {},
   "outputs": [
    {
     "data": {
      "text/plain": [
       "(1744, 7)"
      ]
     },
     "execution_count": 11,
     "metadata": {},
     "output_type": "execute_result"
    }
   ],
   "source": [
    "df = df.dropna()\n",
    "df.shape"
   ]
  },
  {
   "cell_type": "code",
   "execution_count": 12,
   "id": "under-temperature",
   "metadata": {},
   "outputs": [],
   "source": [
    "z_scores = df['z_score'].tolist()\n",
    "z_scores_norm = df['z_score_norm'].tolist()\n",
    "mean_vals = df['predicted_score_mean'].tolist()\n",
    "std_vals = df['predicted_score_std'].tolist()"
   ]
  },
  {
   "cell_type": "markdown",
   "id": "invisible-hybrid",
   "metadata": {},
   "source": [
    "## data plots"
   ]
  },
  {
   "cell_type": "code",
   "execution_count": 13,
   "id": "residential-politics",
   "metadata": {},
   "outputs": [],
   "source": [
    "%matplotlib inline\n",
    "import matplotlib.pyplot as plt\n",
    "from IPython.display import Math, Latex\n",
    "from IPython.core.display import Image\n",
    "import seaborn as sns\n",
    "sns.set(color_codes=True)\n",
    "\n",
    "sns.set(rc={'figure.figsize':(10,5)}) # seaborn plot sizes"
   ]
  },
  {
   "cell_type": "markdown",
   "id": "internal-recognition",
   "metadata": {},
   "source": [
    "### test example"
   ]
  },
  {
   "cell_type": "code",
   "execution_count": 13,
   "id": "portable-harbor",
   "metadata": {},
   "outputs": [],
   "source": [
    "from scipy.stats import norm\n",
    "\n",
    "data_normal = norm.rvs(size=10000,loc=0,scale=1) # random numbers from N(0,1)"
   ]
  },
  {
   "cell_type": "code",
   "execution_count": 14,
   "id": "practical-intersection",
   "metadata": {},
   "outputs": [],
   "source": [
    "# np.log(norm.pdf(data_normal, np.mean(data_normal), np.mean(data_normal))+eps).sum()"
   ]
  },
  {
   "cell_type": "code",
   "execution_count": 15,
   "id": "powerful-berry",
   "metadata": {},
   "outputs": [
    {
     "name": "stderr",
     "output_type": "stream",
     "text": [
      "/media/hdd1/glushkovato/comet/py37_env/lib/python3.7/site-packages/seaborn/distributions.py:2557: FutureWarning: `distplot` is a deprecated function and will be removed in a future version. Please adapt your code to use either `displot` (a figure-level function with similar flexibility) or `histplot` (an axes-level function for histograms).\n",
      "  warnings.warn(msg, FutureWarning)\n"
     ]
    },
    {
     "data": {
      "text/plain": [
       "[Text(0.5, 0, 'Normal Distribution'), Text(0, 0.5, 'Frequency')]"
      ]
     },
     "execution_count": 15,
     "metadata": {},
     "output_type": "execute_result"
    },
    {
     "data": {
      "image/png": "[encoded data removed]",
      "text/plain": [
       "<Figure size 720x360 with 1 Axes>"
      ]
     },
     "metadata": {},
     "output_type": "display_data"
    }
   ],
   "source": [
    "ax = sns.distplot(sorted(data_normal),\n",
    "                  bins=100,\n",
    "                  kde=True,\n",
    "                  color='skyblue',\n",
    "                  hist_kws={\"linewidth\": 15,'alpha':1})\n",
    "ax.set(xlabel='Normal Distribution', ylabel='Frequency')"
   ]
  },
  {
   "cell_type": "markdown",
   "id": "returning-aspect",
   "metadata": {},
   "source": [
    "### our data\n",
    "\n",
    "mean values for each triple"
   ]
  },
  {
   "cell_type": "code",
   "execution_count": 14,
   "id": "considerable-brook",
   "metadata": {},
   "outputs": [
    {
     "name": "stderr",
     "output_type": "stream",
     "text": [
      "/media/hdd1/glushkovato/comet/py37_env/lib/python3.7/site-packages/seaborn/distributions.py:2557: FutureWarning: `distplot` is a deprecated function and will be removed in a future version. Please adapt your code to use either `displot` (a figure-level function with similar flexibility) or `histplot` (an axes-level function for histograms).\n",
      "  warnings.warn(msg, FutureWarning)\n"
     ]
    },
    {
     "data": {
      "text/plain": [
       "[Text(0.5, 0, 'mean_vals distribution'), Text(0, 0.5, 'Frequency')]"
      ]
     },
     "execution_count": 14,
     "metadata": {},
     "output_type": "execute_result"
    },
    {
     "data": {
      "image/png": "[encoded data removed]",
      "text/plain": [
       "<Figure size 720x360 with 1 Axes>"
      ]
     },
     "metadata": {},
     "output_type": "display_data"
    }
   ],
   "source": [
    "ax = sns.distplot(mean_vals,\n",
    "                  bins=100,\n",
    "                  kde=True,\n",
    "                  color='skyblue',\n",
    "                  hist_kws={\"linewidth\": 15,'alpha':1})\n",
    "\n",
    "ax.set(xlabel='mean_vals distribution', ylabel='Frequency')"
   ]
  },
  {
   "cell_type": "code",
   "execution_count": 15,
   "id": "metallic-bandwidth",
   "metadata": {},
   "outputs": [
    {
     "name": "stderr",
     "output_type": "stream",
     "text": [
      "/media/hdd1/glushkovato/comet/py37_env/lib/python3.7/site-packages/seaborn/distributions.py:2557: FutureWarning: `distplot` is a deprecated function and will be removed in a future version. Please adapt your code to use either `displot` (a figure-level function with similar flexibility) or `histplot` (an axes-level function for histograms).\n",
      "  warnings.warn(msg, FutureWarning)\n"
     ]
    },
    {
     "data": {
      "text/plain": [
       "[Text(0.5, 0, 'z_scores distribution'), Text(0, 0.5, 'Frequency')]"
      ]
     },
     "execution_count": 15,
     "metadata": {},
     "output_type": "execute_result"
    },
    {
     "data": {
      "image/png": "[encoded data removed]",
      "text/plain": [
       "<Figure size 720x360 with 1 Axes>"
      ]
     },
     "metadata": {},
     "output_type": "display_data"
    }
   ],
   "source": [
    "ax = sns.distplot(z_scores,\n",
    "                  bins=100,\n",
    "                  kde=True,\n",
    "                  color='skyblue',\n",
    "                  hist_kws={\"linewidth\": 15,'alpha':1})\n",
    "\n",
    "ax.set(xlabel='z_scores distribution', ylabel='Frequency')"
   ]
  },
  {
   "cell_type": "code",
   "execution_count": 16,
   "id": "spatial-twelve",
   "metadata": {},
   "outputs": [
    {
     "name": "stdout",
     "output_type": "stream",
     "text": [
      "mean:  0.03450103589586551\n",
      "std:  0.9602975816160306\n"
     ]
    }
   ],
   "source": [
    "mean = np.mean(mean_vals)\n",
    "std = np.std(mean_vals)\n",
    "\n",
    "print('mean: ', mean)\n",
    "print('std: ', std)"
   ]
  },
  {
   "cell_type": "code",
   "execution_count": 17,
   "id": "adolescent-record",
   "metadata": {},
   "outputs": [
    {
     "data": {
      "text/plain": [
       "0.34679193216427295"
      ]
     },
     "execution_count": 17,
     "metadata": {},
     "output_type": "execute_result"
    }
   ],
   "source": [
    "np.mean(z_scores)"
   ]
  },
  {
   "cell_type": "code",
   "execution_count": 18,
   "id": "recovered-traveler",
   "metadata": {},
   "outputs": [
    {
     "data": {
      "text/plain": [
       "0.03450103589586551"
      ]
     },
     "execution_count": 18,
     "metadata": {},
     "output_type": "execute_result"
    }
   ],
   "source": [
    "np.mean(mean_vals)"
   ]
  },
  {
   "cell_type": "markdown",
   "id": "welcome-wound",
   "metadata": {},
   "source": [
    "## evaluation based on the log-likelihood metric  \n",
    "log p(q | mu, sigma_sq) \n"
   ]
  },
  {
   "cell_type": "code",
   "execution_count": 19,
   "id": "political-registration",
   "metadata": {},
   "outputs": [],
   "source": [
    "from scipy.stats import norm"
   ]
  },
  {
   "cell_type": "code",
   "execution_count": 20,
   "id": "coated-environment",
   "metadata": {},
   "outputs": [],
   "source": [
    "mean = np.mean(mean_vals)\n",
    "std = np.std(mean_vals)"
   ]
  },
  {
   "cell_type": "code",
   "execution_count": 21,
   "id": "compliant-stocks",
   "metadata": {},
   "outputs": [
    {
     "data": {
      "text/plain": [
       "2.220446049250313e-16"
      ]
     },
     "execution_count": 21,
     "metadata": {},
     "output_type": "execute_result"
    }
   ],
   "source": [
    "eps = np.finfo(float).eps # to avoid -inf when computing np.log(0)\n",
    "eps"
   ]
  },
  {
   "cell_type": "code",
   "execution_count": 35,
   "id": "vital-scope",
   "metadata": {},
   "outputs": [],
   "source": [
    "tmp = []\n",
    "probs = []\n",
    "for i, q in enumerate(z_scores):\n",
    "    prob = norm.pdf(q, mean_vals[i], std_vals[i])\n",
    "    probs.append(prob)\n",
    "    tmp.append(np.log(prob+eps))"
   ]
  },
  {
   "cell_type": "code",
   "execution_count": 75,
   "id": "growing-garlic",
   "metadata": {
    "scrolled": true
   },
   "outputs": [],
   "source": [
    "# z_scores[:50]"
   ]
  },
  {
   "cell_type": "code",
   "execution_count": 76,
   "id": "grateful-contest",
   "metadata": {
    "scrolled": true
   },
   "outputs": [],
   "source": [
    "# std_vals[:50]"
   ]
  },
  {
   "cell_type": "code",
   "execution_count": 77,
   "id": "stuffed-headquarters",
   "metadata": {
    "scrolled": true
   },
   "outputs": [],
   "source": [
    "# mean_vals[:50]"
   ]
  },
  {
   "cell_type": "code",
   "execution_count": 23,
   "id": "oriental-schedule",
   "metadata": {},
   "outputs": [
    {
     "data": {
      "text/plain": [
       "[0.16895659881068237,\n",
       " 3.758199325643302e-95,\n",
       " 3.917984524348979,\n",
       " 0.25173698516247667,\n",
       " 4.399268375041114e-20,\n",
       " 2.5923804550908607e-06,\n",
       " 2.924535575568911e-26,\n",
       " 1.804980532324602e-37,\n",
       " 2.0973786381803266e-05,\n",
       " 3.0185151890132144e-97,\n",
       " 4.668383171965241e-48,\n",
       " 0.012168154790960865,\n",
       " 0.45822684316628415,\n",
       " 4.420048384029329e-36,\n",
       " 3.532563042791329e-05,\n",
       " 1.3716952194326665e-48,\n",
       " 1.9785576933283022e-07,\n",
       " 6.543260270701636e-19,\n",
       " 5.886023605555734e-12,\n",
       " 6.615780177064418e-16]"
      ]
     },
     "execution_count": 23,
     "metadata": {},
     "output_type": "execute_result"
    }
   ],
   "source": [
    "probs[:20]"
   ]
  },
  {
   "cell_type": "code",
   "execution_count": 24,
   "id": "illegal-czech",
   "metadata": {},
   "outputs": [
    {
     "data": {
      "text/plain": [
       "-33847.912315981535"
      ]
     },
     "execution_count": 24,
     "metadata": {},
     "output_type": "execute_result"
    }
   ],
   "source": [
    "np.sum(np.log(probs+eps))"
   ]
  },
  {
   "cell_type": "code",
   "execution_count": 116,
   "id": "wound-yield",
   "metadata": {},
   "outputs": [
    {
     "data": {
      "text/plain": [
       "-20743.219915725025"
      ]
     },
     "execution_count": 116,
     "metadata": {},
     "output_type": "execute_result"
    }
   ],
   "source": [
    "np.sum(np.log(probs+eps))"
   ]
  },
  {
   "cell_type": "code",
   "execution_count": 36,
   "id": "complicated-vinyl",
   "metadata": {},
   "outputs": [
    {
     "data": {
      "text/plain": [
       "-17.02145588847603"
      ]
     },
     "execution_count": 36,
     "metadata": {},
     "output_type": "execute_result"
    }
   ],
   "source": [
    "np.sum(np.log(probs+eps))/len(probs) #! the value we want to compare (want: as big as possible) \n",
    "# z_scores and norm comet"
   ]
  },
  {
   "cell_type": "code",
   "execution_count": 41,
   "id": "partial-jumping",
   "metadata": {},
   "outputs": [
    {
     "data": {
      "text/plain": [
       "0.2644923621713182"
      ]
     },
     "execution_count": 41,
     "metadata": {},
     "output_type": "execute_result"
    }
   ],
   "source": [
    "(0.3478988424802117+0.32872467062016925+0.11685357341357375)/3"
   ]
  },
  {
   "cell_type": "code",
   "execution_count": 39,
   "id": "desirable-buyer",
   "metadata": {},
   "outputs": [
    {
     "data": {
      "text/plain": [
       "array([ 0.26449236, -1.05679526,  0.31138429])"
      ]
     },
     "execution_count": 39,
     "metadata": {},
     "output_type": "execute_result"
    }
   ],
   "source": [
    "s = [[0.3478988424802117, -0.4081405360892739, 0.33500615178881393], \n",
    "     [0.32872467062016925, -2.2810152700178628, 0.5426251054257093], \n",
    "     [0.11685357341357375, -0.4812299745324474, 0.05652160583203741]]\n",
    "\n",
    "np.mean(s, axis=0)"
   ]
  },
  {
   "cell_type": "code",
   "execution_count": 89,
   "id": "typical-campaign",
   "metadata": {},
   "outputs": [
    {
     "data": {
      "text/plain": [
       "-22.17159822800405"
      ]
     },
     "execution_count": 89,
     "metadata": {},
     "output_type": "execute_result"
    }
   ],
   "source": [
    "np.sum(np.log(probs+eps))/len(probs) #! the value we want to compare (want: as big as possible) \n",
    "# z_scores and not norm comet"
   ]
  },
  {
   "cell_type": "code",
   "execution_count": 117,
   "id": "coastal-cosmetic",
   "metadata": {},
   "outputs": [
    {
     "data": {
      "text/plain": [
       "-11.894048116814808"
      ]
     },
     "execution_count": 117,
     "metadata": {},
     "output_type": "execute_result"
    }
   ],
   "source": [
    "np.sum(np.log(probs+eps))/len(probs) #! the value we want to compare (want: as big as possible) \n",
    "# z_scores and norm comet"
   ]
  },
  {
   "cell_type": "code",
   "execution_count": null,
   "id": "perfect-waters",
   "metadata": {},
   "outputs": [],
   "source": []
  },
  {
   "cell_type": "code",
   "execution_count": 122,
   "id": "documentary-belfast",
   "metadata": {},
   "outputs": [
    {
     "data": {
      "text/plain": [
       "-14.173659699440242"
      ]
     },
     "execution_count": 122,
     "metadata": {},
     "output_type": "execute_result"
    }
   ],
   "source": [
    "np.sum(np.log(probs+eps))/len(probs) #! the value we want to compare (want: as big as possible) \n",
    "# norm z_scores and norm comet"
   ]
  },
  {
   "cell_type": "code",
   "execution_count": 93,
   "id": "referenced-closer",
   "metadata": {},
   "outputs": [
    {
     "data": {
      "text/plain": [
       "22.17159822800405"
      ]
     },
     "execution_count": 93,
     "metadata": {},
     "output_type": "execute_result"
    }
   ],
   "source": [
    "# or as small as possible\n",
    "np.abs(np.sum(np.log(probs+eps))/len(probs)) #! the value we want to compare "
   ]
  },
  {
   "cell_type": "code",
   "execution_count": null,
   "id": "accepting-adult",
   "metadata": {},
   "outputs": [],
   "source": [
    "# try norm.logpdf"
   ]
  },
  {
   "cell_type": "code",
   "execution_count": 147,
   "id": "distinct-worse",
   "metadata": {},
   "outputs": [
    {
     "data": {
      "text/plain": [
       "0.0001"
      ]
     },
     "execution_count": 147,
     "metadata": {},
     "output_type": "execute_result"
    }
   ],
   "source": [
    "norm.var(mean_vals[0],0.01)"
   ]
  },
  {
   "cell_type": "code",
   "execution_count": 142,
   "id": "varying-reduction",
   "metadata": {},
   "outputs": [
    {
     "name": "stderr",
     "output_type": "stream",
     "text": [
      "100%|██████████| 301/301 [00:53<00:00,  5.61it/s]\n"
     ]
    }
   ],
   "source": [
    "# var starting from 0.001 to 0.5, step 0.001\n",
    "\n",
    "vals = []\n",
    "for j in tqdm(np.arange(0.5, 0.8, 0.001)): \n",
    "    probs = []\n",
    "    for i, q in enumerate(z_scores):\n",
    "        prob = norm.pdf(q, mean_vals[i], j)\n",
    "        probs.append(prob)\n",
    "    vals.append(np.sum(np.log(probs+eps))/len(probs))"
   ]
  },
  {
   "cell_type": "code",
   "execution_count": 143,
   "id": "efficient-plaza",
   "metadata": {},
   "outputs": [
    {
     "data": {
      "text/plain": [
       "300"
      ]
     },
     "execution_count": 143,
     "metadata": {},
     "output_type": "execute_result"
    }
   ],
   "source": [
    "np.argmax(vals)"
   ]
  },
  {
   "cell_type": "code",
   "execution_count": 144,
   "id": "congressional-canal",
   "metadata": {},
   "outputs": [
    {
     "data": {
      "text/plain": [
       "-1.6878358116439027"
      ]
     },
     "execution_count": 144,
     "metadata": {},
     "output_type": "execute_result"
    }
   ],
   "source": [
    "vals[np.argmax(vals)]"
   ]
  },
  {
   "cell_type": "code",
   "execution_count": 137,
   "id": "defined-current",
   "metadata": {},
   "outputs": [
    {
     "data": {
      "text/plain": [
       "0.499"
      ]
     },
     "execution_count": 137,
     "metadata": {},
     "output_type": "execute_result"
    }
   ],
   "source": [
    "np.arange(0.001, 0.5, 0.001)[498]"
   ]
  },
  {
   "cell_type": "code",
   "execution_count": 69,
   "id": "armed-seafood",
   "metadata": {},
   "outputs": [
    {
     "data": {
      "text/plain": [
       "[<matplotlib.lines.Line2D at 0x7f647821aed0>]"
      ]
     },
     "execution_count": 69,
     "metadata": {},
     "output_type": "execute_result"
    },
    {
     "data": {
      "image/png": "[encoded data removed]",
      "text/plain": [
       "<Figure size 720x360 with 1 Axes>"
      ]
     },
     "metadata": {},
     "output_type": "display_data"
    }
   ],
   "source": [
    "plt.plot(probs, color='b')"
   ]
  },
  {
   "cell_type": "code",
   "execution_count": 88,
   "id": "exciting-privilege",
   "metadata": {},
   "outputs": [
    {
     "name": "stderr",
     "output_type": "stream",
     "text": [
      "/media/hdd1/glushkovato/comet/py37_env/lib/python3.7/site-packages/ipykernel_launcher.py:1: RuntimeWarning: divide by zero encountered in log\n",
      "  \"\"\"Entry point for launching an IPython kernel.\n"
     ]
    },
    {
     "data": {
      "text/plain": [
       "[<matplotlib.lines.Line2D at 0x7f64774f3b90>]"
      ]
     },
     "execution_count": 88,
     "metadata": {},
     "output_type": "execute_result"
    },
    {
     "data": {
      "image/png": "[encoded data removed]",
      "text/plain": [
       "<Figure size 720x360 with 1 Axes>"
      ]
     },
     "metadata": {},
     "output_type": "display_data"
    }
   ],
   "source": [
    "plt.plot(np.log(probs), color='b')"
   ]
  },
  {
   "cell_type": "code",
   "execution_count": 35,
   "id": "portable-alias",
   "metadata": {},
   "outputs": [
    {
     "data": {
      "text/plain": [
       "-37572.37062613824"
      ]
     },
     "execution_count": 35,
     "metadata": {},
     "output_type": "execute_result"
    }
   ],
   "source": [
    "np.sum(tmp)"
   ]
  },
  {
   "cell_type": "code",
   "execution_count": 74,
   "id": "global-petroleum",
   "metadata": {},
   "outputs": [
    {
     "data": {
      "text/plain": [
       "array([  0.35527887, -10.78837592,  -2.41678263, ...,   0.38723281,\n",
       "         0.18440155,   0.38723281])"
      ]
     },
     "execution_count": 74,
     "metadata": {},
     "output_type": "execute_result"
    }
   ],
   "source": [
    "np.log(norm.pdf(z_scores, mean, std))"
   ]
  },
  {
   "cell_type": "code",
   "execution_count": 72,
   "id": "possible-fishing",
   "metadata": {},
   "outputs": [
    {
     "data": {
      "text/plain": [
       "-4415.865239777251"
      ]
     },
     "execution_count": 72,
     "metadata": {},
     "output_type": "execute_result"
    }
   ],
   "source": [
    "np.log(norm.pdf(z_scores, mean, std)).sum()"
   ]
  },
  {
   "cell_type": "code",
   "execution_count": 73,
   "id": "widespread-avenue",
   "metadata": {},
   "outputs": [],
   "source": [
    "# np.log(norm.pdf(z_scores_norm, mean, std)).sum()"
   ]
  },
  {
   "cell_type": "code",
   "execution_count": 24,
   "id": "western-broadway",
   "metadata": {
    "scrolled": true
   },
   "outputs": [
    {
     "data": {
      "text/plain": [
       "array([1.42657842e+00, 2.06380123e-05, 8.92081720e-02, ...,\n",
       "       1.47289936e+00, 1.20249859e+00, 1.47289936e+00])"
      ]
     },
     "execution_count": 24,
     "metadata": {},
     "output_type": "execute_result"
    }
   ],
   "source": [
    "probs = norm.pdf(z_scores, mean, std)\n",
    "probs"
   ]
  },
  {
   "cell_type": "code",
   "execution_count": 25,
   "id": "parliamentary-conversion",
   "metadata": {},
   "outputs": [
    {
     "data": {
      "text/plain": [
       "True"
      ]
     },
     "execution_count": 25,
     "metadata": {},
     "output_type": "execute_result"
    }
   ],
   "source": [
    "np.array(probs).any() >= 1"
   ]
  },
  {
   "cell_type": "code",
   "execution_count": 28,
   "id": "amazing-boring",
   "metadata": {},
   "outputs": [
    {
     "data": {
      "image/png": "[encoded data removed]",
      "text/plain": [
       "<Figure size 720x360 with 1 Axes>"
      ]
     },
     "metadata": {},
     "output_type": "display_data"
    }
   ],
   "source": [
    "z_scores, probs = zip(*sorted(zip(z_scores, probs)))\n",
    "\n",
    "plt.plot(z_scores, color='r')\n",
    "plt.plot(probs, color='b')\n",
    "# plt.plot(np.log(probs), color='g')\n",
    "plt.show()"
   ]
  },
  {
   "cell_type": "code",
   "execution_count": null,
   "id": "contrary-metallic",
   "metadata": {},
   "outputs": [],
   "source": []
  },
  {
   "cell_type": "code",
   "execution_count": null,
   "id": "naughty-answer",
   "metadata": {},
   "outputs": [],
   "source": []
  },
  {
   "cell_type": "code",
   "execution_count": null,
   "id": "enabling-musical",
   "metadata": {},
   "outputs": [],
   "source": []
  },
  {
   "cell_type": "code",
   "execution_count": null,
   "id": "italian-structure",
   "metadata": {},
   "outputs": [],
   "source": []
  },
  {
   "cell_type": "code",
   "execution_count": null,
   "id": "solid-carpet",
   "metadata": {},
   "outputs": [],
   "source": []
  },
  {
   "cell_type": "code",
   "execution_count": null,
   "id": "supreme-rabbit",
   "metadata": {},
   "outputs": [],
   "source": []
  },
  {
   "cell_type": "code",
   "execution_count": null,
   "id": "conventional-making",
   "metadata": {},
   "outputs": [],
   "source": []
  }
 ],
 "metadata": {
  "kernelspec": {
   "display_name": "py37_env",
   "language": "python",
   "name": "py37_env"
  },
  "language_info": {
   "codemirror_mode": {
    "name": "ipython",
    "version": 3
   },
   "file_extension": ".py",
   "mimetype": "text/x-python",
   "name": "python",
   "nbconvert_exporter": "python",
   "pygments_lexer": "ipython3",
   "version": "3.7.5"
  }
 },
 "nbformat": 4,
 "nbformat_minor": 5
}
