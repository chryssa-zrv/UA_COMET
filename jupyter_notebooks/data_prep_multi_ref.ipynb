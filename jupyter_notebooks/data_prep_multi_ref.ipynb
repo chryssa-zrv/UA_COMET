{
 "cells": [
  {
   "cell_type": "code",
   "execution_count": 1,
   "id": "embedded-thickness",
   "metadata": {},
   "outputs": [],
   "source": [
    "import json \n",
    "import pandas as pd\n",
    "import numpy as np\n",
    "from tqdm import tqdm"
   ]
  },
  {
   "cell_type": "code",
   "execution_count": 2,
   "id": "affecting-boost",
   "metadata": {},
   "outputs": [],
   "source": [
    "with open('/media/hdd1/glushkovato/comet/data/en_de/sources/newstest2019-ende-src.en') as src_file:  \n",
    "    src = [i.strip('\\n') for i in src_file.readlines()]\n",
    "\n",
    "with open('/media/hdd1/glushkovato/comet/data/en_de/system-outputs/newstest2019.Facebook_FAIR.6862.en-de') as mt_file:  \n",
    "    mt = [i.strip('\\n') for i in mt_file.readlines()]\n"
   ]
  },
  {
   "cell_type": "code",
   "execution_count": 3,
   "id": "stainless-rwanda",
   "metadata": {},
   "outputs": [],
   "source": [
    "with open('/media/hdd1/glushkovato/comet/data/en_de/references/wmt19-ende-hqall.ref') as ref_file:  \n",
    "    hqall = [i.strip('\\n') for i in ref_file.readlines()]\n",
    "\n",
    "with open('/media/hdd1/glushkovato/comet/data/en_de/references/wmt19-ende-hqp.ref') as ref_file:  \n",
    "    hqp = [i.strip('\\n') for i in ref_file.readlines()]\n",
    "    \n",
    "with open('/media/hdd1/glushkovato/comet/data/en_de/references/wmt19-ende-hqr.ref') as ref_file:  \n",
    "    hqr = [i.strip('\\n') for i in ref_file.readlines()]"
   ]
  },
  {
   "cell_type": "code",
   "execution_count": null,
   "id": "finite-healing",
   "metadata": {},
   "outputs": [],
   "source": []
  },
  {
   "cell_type": "code",
   "execution_count": 22,
   "id": "waiting-press",
   "metadata": {},
   "outputs": [],
   "source": [
    "with open('/media/hdd1/glushkovato/comet/data/en_de/sources/src_3refs.txt', 'w') as f:\n",
    "    for i in src:\n",
    "        print(i, file=f)\n",
    "        print(i, file=f)\n",
    "        print(i, file=f)"
   ]
  },
  {
   "cell_type": "code",
   "execution_count": 23,
   "id": "registered-discovery",
   "metadata": {},
   "outputs": [],
   "source": [
    "with open('/media/hdd1/glushkovato/comet/data/en_de/system-outputs/mt_3refs.txt', 'w') as f:\n",
    "    for i in mt:\n",
    "        print(i, file=f)\n",
    "        print(i, file=f)\n",
    "        print(i, file=f)"
   ]
  },
  {
   "cell_type": "code",
   "execution_count": 24,
   "id": "respiratory-estate",
   "metadata": {},
   "outputs": [],
   "source": [
    "with open('/media/hdd1/glushkovato/comet/data/en_de/references/ref_3hqrefs.txt', 'w') as f:\n",
    "    for i in range(len(hqall)):\n",
    "        print(hqall[+i], file=f)\n",
    "        print(hqp[+i], file=f)\n",
    "        print(hqr[+i], file=f)"
   ]
  },
  {
   "cell_type": "code",
   "execution_count": 25,
   "id": "closed-basic",
   "metadata": {
    "scrolled": true
   },
   "outputs": [
    {
     "data": {
      "text/plain": [
       "1998"
      ]
     },
     "execution_count": 25,
     "metadata": {},
     "output_type": "execute_result"
    }
   ],
   "source": [
    "666*3"
   ]
  },
  {
   "cell_type": "code",
   "execution_count": 26,
   "id": "classical-period",
   "metadata": {},
   "outputs": [
    {
     "data": {
      "text/plain": [
       "6"
      ]
     },
     "execution_count": 26,
     "metadata": {},
     "output_type": "execute_result"
    }
   ],
   "source": [
    "5991%9"
   ]
  },
  {
   "cell_type": "code",
   "execution_count": 27,
   "id": "geographic-sullivan",
   "metadata": {},
   "outputs": [
    {
     "data": {
      "text/plain": [
       "5991"
      ]
     },
     "execution_count": 27,
     "metadata": {},
     "output_type": "execute_result"
    }
   ],
   "source": [
    "1997*3"
   ]
  },
  {
   "cell_type": "code",
   "execution_count": 28,
   "id": "interesting-protection",
   "metadata": {},
   "outputs": [
    {
     "data": {
      "text/plain": [
       "5991"
      ]
     },
     "execution_count": 28,
     "metadata": {},
     "output_type": "execute_result"
    }
   ],
   "source": [
    "with open('/media/hdd1/glushkovato/comet/data/en_de/references/ref_3hqrefs.txt') as test:  \n",
    "    tt = [i.strip('\\n') for i in test.readlines()]\n",
    "    \n",
    "len(tt)"
   ]
  },
  {
   "cell_type": "code",
   "execution_count": 29,
   "id": "cultural-cleaning",
   "metadata": {},
   "outputs": [
    {
     "data": {
      "text/plain": [
       "5991"
      ]
     },
     "execution_count": 29,
     "metadata": {},
     "output_type": "execute_result"
    }
   ],
   "source": [
    "with open('/media/hdd1/glushkovato/comet/data/en_de/sources/src_3refs.txt') as test:  \n",
    "    tt = [i.strip('\\n') for i in test.readlines()]\n",
    "    \n",
    "len(tt)"
   ]
  },
  {
   "cell_type": "code",
   "execution_count": 30,
   "id": "chief-breed",
   "metadata": {},
   "outputs": [
    {
     "data": {
      "text/plain": [
       "5991"
      ]
     },
     "execution_count": 30,
     "metadata": {},
     "output_type": "execute_result"
    }
   ],
   "source": [
    "with open('/media/hdd1/glushkovato/comet/data/en_de/system-outputs/mt_3refs.txt') as test:  \n",
    "    tt = [i.strip('\\n') for i in test.readlines()]\n",
    "    \n",
    "len(tt)"
   ]
  },
  {
   "cell_type": "code",
   "execution_count": null,
   "id": "classical-mechanism",
   "metadata": {},
   "outputs": [],
   "source": []
  },
  {
   "cell_type": "code",
   "execution_count": null,
   "id": "crude-brush",
   "metadata": {},
   "outputs": [],
   "source": []
  },
  {
   "cell_type": "code",
   "execution_count": null,
   "id": "norwegian-facing",
   "metadata": {},
   "outputs": [],
   "source": [
    "LEN BATCH  3\n",
    "LEN BATCHES  1337\n",
    "LEN SAMPLES  4011\n",
    "LEN MODEL_INPUTS  1337"
   ]
  },
  {
   "cell_type": "code",
   "execution_count": null,
   "id": "mental-credit",
   "metadata": {},
   "outputs": [],
   "source": []
  },
  {
   "cell_type": "code",
   "execution_count": 43,
   "id": "aggregate-father",
   "metadata": {},
   "outputs": [
    {
     "data": {
      "text/plain": [
       "'Für große Teile in der Mitte und im Osten der USA wird ein warmer Oktoberanfang erwartet, bei allgemeinen Temperaturen in den 80ern von den Southern Plains bis in Teile des Nordostens.'"
      ]
     },
     "execution_count": 43,
     "metadata": {},
     "output_type": "execute_result"
    }
   ],
   "source": [
    "tt[666]"
   ]
  },
  {
   "cell_type": "code",
   "execution_count": 30,
   "id": "regular-casino",
   "metadata": {},
   "outputs": [
    {
     "data": {
      "text/plain": [
       "['Mitglieder aller Parteien der Nationalversammlung haben Bedenken, dass sie sich dadurch Spott aussetzen könnten.',\n",
       " 'Angehöriger aller der Nationalversammlung angehörigen Parteien befürchten, deshalb verhöhnt zu werden.',\n",
       " 'Mitglieder aller Parteien der Nationalversammlung haben Bedenken, dass sie sich dadurch Spott aussetzen könnten.',\n",
       " 'Ein Labour-Abgeordneter sagte, seine Gruppe sei darüber besorgt, dass es „sich mit Twp und Pwp reime“.',\n",
       " '\"Ein Abgeordneter der Labour-Partei sagte, dass sich dies \"\"auf Twp und Pwp\"\" reime.\"',\n",
       " 'Ein Labour-Abgeordneter sagte, seine Gruppe sei darüber besorgt, dass es „sich mit Twp und Pwp reime“.',\n",
       " 'Für Leser außerhalb von Wales: Auf Walisisch bedeutet twp bekloppt und pwp bedeutet Scheiße.',\n",
       " 'Zur Erklärung für Leser, die kein Walisisch können: Auf Walisisch bedeutet twp schwachköpfig, pwp dagegen Scheiße.',\n",
       " 'Für Leser außerhalb von Wales: Auf Walisisch bedeutet twp bekloppt und pwp bedeutet Scheiße.',\n",
       " 'Ein Plaid-Abgeordneter sagte, dass die Gruppe als Ganzes „nicht glücklich“ sei und Alternativen vorgeschlagen habe.']"
      ]
     },
     "execution_count": 30,
     "metadata": {},
     "output_type": "execute_result"
    }
   ],
   "source": [
    "tt[9:19]"
   ]
  },
  {
   "cell_type": "code",
   "execution_count": null,
   "id": "brief-foster",
   "metadata": {},
   "outputs": [],
   "source": []
  },
  {
   "cell_type": "code",
   "execution_count": null,
   "id": "comfortable-processing",
   "metadata": {},
   "outputs": [],
   "source": []
  }
 ],
 "metadata": {
  "kernelspec": {
   "display_name": "py37_env",
   "language": "python",
   "name": "py37_env"
  },
  "language_info": {
   "codemirror_mode": {
    "name": "ipython",
    "version": 3
   },
   "file_extension": ".py",
   "mimetype": "text/x-python",
   "name": "python",
   "nbconvert_exporter": "python",
   "pygments_lexer": "ipython3",
   "version": "3.7.5"
  }
 },
 "nbformat": 4,
 "nbformat_minor": 5
}
