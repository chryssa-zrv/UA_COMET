{
 "cells": [
  {
   "cell_type": "code",
   "execution_count": 2,
   "id": "embedded-thickness",
   "metadata": {},
   "outputs": [],
   "source": [
    "import json \n",
    "import pandas as pd\n",
    "import numpy as np\n",
    "from tqdm import tqdm"
   ]
  },
  {
   "cell_type": "code",
   "execution_count": 14,
   "id": "cooperative-reynolds",
   "metadata": {},
   "outputs": [],
   "source": [
    "with open('/media/hdd1/glushkovato/comet/data/en_de/sources/newstest2019-ende-src.en') as src_file:  \n",
    "    src = [i.strip('\\n') for i in src_file.readlines()]\n",
    "\n",
    "with open('/media/hdd1/glushkovato/comet/data/en_de/system-outputs/newstest2019.Facebook_FAIR.6862.en-de') as mt_file:  \n",
    "    mt = [i.strip('\\n') for i in mt_file.readlines()]\n",
    "    \n",
    "with open('/media/hdd1/glushkovato/comet/data/en_de/references/newstest2019-ende-ref.de') as ref_file:  \n",
    "    ref_original = [i.strip('\\n') for i in ref_file.readlines()]\n"
   ]
  },
  {
   "cell_type": "code",
   "execution_count": 15,
   "id": "stainless-rwanda",
   "metadata": {},
   "outputs": [],
   "source": [
    "# marcus freitag references\n",
    "# https://github.com/google/wmt19-paraphrased-references\n",
    "\n",
    "with open('/media/hdd1/glushkovato/comet/data/en_de/references/wmt19-ende-hqall.ref') as ref_file:  \n",
    "    hqall = [i.strip('\\n') for i in ref_file.readlines()]\n",
    "\n",
    "with open('/media/hdd1/glushkovato/comet/data/en_de/references/wmt19-ende-hqp.ref') as ref_file:  \n",
    "    hqp = [i.strip('\\n') for i in ref_file.readlines()]\n",
    "    \n",
    "with open('/media/hdd1/glushkovato/comet/data/en_de/references/wmt19-ende-hqr.ref') as ref_file:  \n",
    "    hqr = [i.strip('\\n') for i in ref_file.readlines()]\n",
    "    \n",
    "with open('/media/hdd1/glushkovato/comet/data/en_de/references/wmt19-ende-arp.ref') as ref_file:  \n",
    "    arp = [i.strip('\\n') for i in ref_file.readlines()]    \n",
    "    \n",
    "with open('/media/hdd1/glushkovato/comet/data/en_de/references/wmt19-ende-ar.ref') as ref_file:  \n",
    "    ar = [i.strip('\\n') for i in ref_file.readlines()]      \n",
    "    \n",
    "with open('/media/hdd1/glushkovato/comet/data/en_de/references/wmt19-ende-wmtp.ref') as ref_file:  \n",
    "    wmtp = [i.strip('\\n') for i in ref_file.readlines()]   "
   ]
  },
  {
   "cell_type": "code",
   "execution_count": 28,
   "id": "aerial-engine",
   "metadata": {},
   "outputs": [],
   "source": [
    "from os import listdir\n",
    "from os.path import isfile, join\n",
    "\n",
    "mt_path = '/media/hdd1/glushkovato/comet/data/wmt19-submitted-data-v3/txt/system-outputs/newstest2019/en-de/'\n",
    "files = [f for f in listdir(mt_path) if isfile(join(mt_path, f))]"
   ]
  },
  {
   "cell_type": "code",
   "execution_count": 31,
   "id": "inner-colleague",
   "metadata": {},
   "outputs": [
    {
     "data": {
      "text/plain": [
       "['newstest2019.PROMT_NMT_EN-DE.6674.en-de',\n",
       " 'newstest2019.eTranslation.6823.en-de',\n",
       " 'newstest2019.MLLP-UPV.6651.en-de',\n",
       " 'newstest2019.UCAM.6731.en-de',\n",
       " 'newstest2019.lmu-ctx-tf-single-en-de.6981.en-de',\n",
       " 'newstest2019.MSRA.MADL.6926.en-de',\n",
       " 'newstest2019.Facebook_FAIR.6862.en-de',\n",
       " 'newstest2019.TartuNLP-c.6508.en-de',\n",
       " 'newstest2019.JHU.6819.en-de',\n",
       " 'newstest2019.Microsoft-WMT19-document-level.6808.en-de',\n",
       " 'newstest2019.online-Y.0.en-de',\n",
       " 'newstest2019.Microsoft-WMT19-sentence-level.6785.en-de',\n",
       " 'newstest2019.online-B.0.en-de',\n",
       " 'newstest2019.en_de_task.6790.en-de',\n",
       " 'newstest2019.dfki-nmt.6479.en-de',\n",
       " 'newstest2019.Helsinki-NLP.6820.en-de',\n",
       " 'newstest2019.online-A.0.en-de',\n",
       " 'newstest2019.UdS-DFKI.6871.en-de',\n",
       " 'newstest2019.NEU.6763.en-de',\n",
       " 'newstest2019.online-X.0.en-de',\n",
       " 'newstest2019.Microsoft-WMT19-sentence_document.6974.en-de',\n",
       " 'newstest2019.online-G.0.en-de']"
      ]
     },
     "execution_count": 31,
     "metadata": {},
     "output_type": "execute_result"
    }
   ],
   "source": [
    "files"
   ]
  },
  {
   "cell_type": "code",
   "execution_count": 35,
   "id": "square-algeria",
   "metadata": {},
   "outputs": [
    {
     "data": {
      "text/plain": [
       "'online-Y'"
      ]
     },
     "execution_count": 35,
     "metadata": {},
     "output_type": "execute_result"
    }
   ],
   "source": [
    "files[10].split('.')[1]"
   ]
  },
  {
   "cell_type": "code",
   "execution_count": 38,
   "id": "quantitative-marathon",
   "metadata": {},
   "outputs": [
    {
     "name": "stderr",
     "output_type": "stream",
     "text": [
      "100%|██████████| 22/22 [00:00<00:00, 99.73it/s] \n"
     ]
    }
   ],
   "source": [
    "for filename in tqdm(files):\n",
    "    with open(mt_path + filename) as mt_file:  \n",
    "        mt = [i.strip('\\n') for i in mt_file.readlines()]\n",
    "        \n",
    "    name = filename.split('.')[1]\n",
    "        \n",
    "    with open('/media/hdd1/glushkovato/comet/data/en_de/system-outputs/mt_3refs_' + name + '.txt', 'w') as f:\n",
    "        for i in mt:\n",
    "            print(i, file=f)\n",
    "            print(i, file=f)\n",
    "            print(i, file=f)"
   ]
  },
  {
   "cell_type": "code",
   "execution_count": null,
   "id": "impressive-recall",
   "metadata": {},
   "outputs": [],
   "source": []
  },
  {
   "cell_type": "code",
   "execution_count": 51,
   "id": "registered-discovery",
   "metadata": {},
   "outputs": [],
   "source": [
    "with open('/media/hdd1/glushkovato/comet/data/en_de/system-outputs/mt_3refs_test.txt', 'w') as f:\n",
    "    for i in mt[:3]:\n",
    "        print(i, file=f)\n",
    "        print(i, file=f)\n",
    "        print(i, file=f)\n",
    "#         print(i, file=f)"
   ]
  },
  {
   "cell_type": "code",
   "execution_count": 52,
   "id": "waiting-press",
   "metadata": {},
   "outputs": [],
   "source": [
    "with open('/media/hdd1/glushkovato/comet/data/en_de/sources/src_3refs_test.txt', 'w') as f:\n",
    "    for i in src[:3]:\n",
    "        print(i, file=f)\n",
    "        print(i, file=f)\n",
    "        print(i, file=f)\n",
    "#         print(i, file=f)"
   ]
  },
  {
   "cell_type": "code",
   "execution_count": 53,
   "id": "respiratory-estate",
   "metadata": {},
   "outputs": [],
   "source": [
    "with open('/media/hdd1/glushkovato/comet/data/en_de/references/ref_3refs_test.txt', 'w') as f:\n",
    "    for i in range(len(hqall[:3])):\n",
    "        print(ar[i], file=f)\n",
    "#         print(hqr[i], file=f)\n",
    "        print(arp[i], file=f)\n",
    "        print(wmtp[i], file=f)"
   ]
  },
  {
   "cell_type": "code",
   "execution_count": null,
   "id": "greater-subdivision",
   "metadata": {},
   "outputs": [],
   "source": []
  },
  {
   "cell_type": "code",
   "execution_count": 54,
   "id": "interesting-protection",
   "metadata": {},
   "outputs": [
    {
     "data": {
      "text/plain": [
       "5991"
      ]
     },
     "execution_count": 54,
     "metadata": {},
     "output_type": "execute_result"
    }
   ],
   "source": [
    "with open('/media/hdd1/glushkovato/comet/data/en_de/references/ref_3refs.txt') as test:  \n",
    "    tt = [i.strip('\\n') for i in test.readlines()]\n",
    "    \n",
    "len(tt)"
   ]
  },
  {
   "cell_type": "code",
   "execution_count": 55,
   "id": "cultural-cleaning",
   "metadata": {},
   "outputs": [
    {
     "data": {
      "text/plain": [
       "5991"
      ]
     },
     "execution_count": 55,
     "metadata": {},
     "output_type": "execute_result"
    }
   ],
   "source": [
    "with open('/media/hdd1/glushkovato/comet/data/en_de/sources/src_3refs.txt') as test:  \n",
    "    tt = [i.strip('\\n') for i in test.readlines()]\n",
    "    \n",
    "len(tt)"
   ]
  },
  {
   "cell_type": "code",
   "execution_count": 56,
   "id": "chief-breed",
   "metadata": {},
   "outputs": [
    {
     "data": {
      "text/plain": [
       "5991"
      ]
     },
     "execution_count": 56,
     "metadata": {},
     "output_type": "execute_result"
    }
   ],
   "source": [
    "with open('/media/hdd1/glushkovato/comet/data/en_de/system-outputs/mt_3refs_PROMT_NMT_EN-DE.txt') as test:  \n",
    "    tt = [i.strip('\\n') for i in test.readlines()]\n",
    "    \n",
    "len(tt)"
   ]
  },
  {
   "cell_type": "code",
   "execution_count": 18,
   "id": "intended-local",
   "metadata": {},
   "outputs": [
    {
     "data": {
      "text/plain": [
       "['Waliser AMs besorgt darüber, „wie Muppets auszusehen“',\n",
       " 'Waliser AMs besorgt darüber, „wie Muppets auszusehen“',\n",
       " 'Waliser AMs besorgt darüber, „wie Muppets auszusehen“',\n",
       " 'Waliser AMs besorgt darüber, „wie Muppets auszusehen“',\n",
       " 'Bei einigen AMs herrscht Bestürzung über einen Vorschlag, dass ihr Titel in MWPs (Mitglied des walisischen Parlaments) geändert werden sollte.']"
      ]
     },
     "execution_count": 18,
     "metadata": {},
     "output_type": "execute_result"
    }
   ],
   "source": [
    "tt[:5]"
   ]
  },
  {
   "cell_type": "code",
   "execution_count": 33,
   "id": "classical-mechanism",
   "metadata": {},
   "outputs": [
    {
     "data": {
      "text/plain": [
       "0"
      ]
     },
     "execution_count": 33,
     "metadata": {},
     "output_type": "execute_result"
    }
   ],
   "source": [
    "len(wmtp)"
   ]
  },
  {
   "cell_type": "code",
   "execution_count": 23,
   "id": "spoken-adrian",
   "metadata": {},
   "outputs": [],
   "source": [
    "cnt = 0\n",
    "for i in range(len(hqall)):\n",
    "    if ref_original[i] == wmtp[i]:\n",
    "        cnt += 1"
   ]
  },
  {
   "cell_type": "code",
   "execution_count": 24,
   "id": "modular-georgia",
   "metadata": {},
   "outputs": [
    {
     "data": {
      "text/plain": [
       "6"
      ]
     },
     "execution_count": 24,
     "metadata": {},
     "output_type": "execute_result"
    }
   ],
   "source": [
    "cnt"
   ]
  },
  {
   "cell_type": "code",
   "execution_count": 20,
   "id": "physical-floating",
   "metadata": {},
   "outputs": [
    {
     "data": {
      "text/plain": [
       "1"
      ]
     },
     "execution_count": 20,
     "metadata": {},
     "output_type": "execute_result"
    }
   ],
   "source": [
    "# cnt (ar[i] == wmtp[i]) or (ar[i] == arp[i]):"
   ]
  },
  {
   "cell_type": "code",
   "execution_count": 18,
   "id": "romantic-climate",
   "metadata": {},
   "outputs": [
    {
     "data": {
      "text/plain": [
       "4"
      ]
     },
     "execution_count": 18,
     "metadata": {},
     "output_type": "execute_result"
    }
   ],
   "source": [
    "# cnt (ar[i] == wmtp[i]) or (wmtp[i] == arp[i]):"
   ]
  },
  {
   "cell_type": "code",
   "execution_count": 22,
   "id": "failing-identification",
   "metadata": {},
   "outputs": [
    {
     "data": {
      "text/plain": [
       "927"
      ]
     },
     "execution_count": 22,
     "metadata": {},
     "output_type": "execute_result"
    }
   ],
   "source": [
    "cnt hqp[i] == hqarp[i]"
   ]
  },
  {
   "cell_type": "code",
   "execution_count": 12,
   "id": "retired-static",
   "metadata": {},
   "outputs": [],
   "source": [
    "a = []\n",
    "b = [[1,1], [1,2]]"
   ]
  },
  {
   "cell_type": "code",
   "execution_count": 26,
   "id": "surrounded-elder",
   "metadata": {},
   "outputs": [
    {
     "name": "stdout",
     "output_type": "stream",
     "text": [
      "0\n",
      "0\n",
      "1\n",
      "3\n",
      "2\n",
      "6\n"
     ]
    }
   ],
   "source": [
    "for i, j in enumerate(range(0,9,3)):\n",
    "    print(i)\n",
    "    print(j)"
   ]
  },
  {
   "cell_type": "code",
   "execution_count": null,
   "id": "incorporated-disability",
   "metadata": {},
   "outputs": [],
   "source": []
  },
  {
   "cell_type": "code",
   "execution_count": 24,
   "id": "ordered-economics",
   "metadata": {},
   "outputs": [
    {
     "data": {
      "text/plain": [
       "1334"
      ]
     },
     "execution_count": 24,
     "metadata": {},
     "output_type": "execute_result"
    }
   ],
   "source": [
    "cnt"
   ]
  },
  {
   "cell_type": "code",
   "execution_count": 22,
   "id": "crude-brush",
   "metadata": {},
   "outputs": [
    {
     "data": {
      "text/plain": [
       "664"
      ]
     },
     "execution_count": 22,
     "metadata": {},
     "output_type": "execute_result"
    }
   ],
   "source": [
    "cnt"
   ]
  },
  {
   "cell_type": "code",
   "execution_count": null,
   "id": "mental-credit",
   "metadata": {},
   "outputs": [],
   "source": []
  },
  {
   "cell_type": "code",
   "execution_count": 43,
   "id": "aggregate-father",
   "metadata": {},
   "outputs": [
    {
     "data": {
      "text/plain": [
       "'Für große Teile in der Mitte und im Osten der USA wird ein warmer Oktoberanfang erwartet, bei allgemeinen Temperaturen in den 80ern von den Southern Plains bis in Teile des Nordostens.'"
      ]
     },
     "execution_count": 43,
     "metadata": {},
     "output_type": "execute_result"
    }
   ],
   "source": [
    "tt[666]"
   ]
  },
  {
   "cell_type": "code",
   "execution_count": 30,
   "id": "regular-casino",
   "metadata": {},
   "outputs": [
    {
     "data": {
      "text/plain": [
       "['Mitglieder aller Parteien der Nationalversammlung haben Bedenken, dass sie sich dadurch Spott aussetzen könnten.',\n",
       " 'Angehöriger aller der Nationalversammlung angehörigen Parteien befürchten, deshalb verhöhnt zu werden.',\n",
       " 'Mitglieder aller Parteien der Nationalversammlung haben Bedenken, dass sie sich dadurch Spott aussetzen könnten.',\n",
       " 'Ein Labour-Abgeordneter sagte, seine Gruppe sei darüber besorgt, dass es „sich mit Twp und Pwp reime“.',\n",
       " '\"Ein Abgeordneter der Labour-Partei sagte, dass sich dies \"\"auf Twp und Pwp\"\" reime.\"',\n",
       " 'Ein Labour-Abgeordneter sagte, seine Gruppe sei darüber besorgt, dass es „sich mit Twp und Pwp reime“.',\n",
       " 'Für Leser außerhalb von Wales: Auf Walisisch bedeutet twp bekloppt und pwp bedeutet Scheiße.',\n",
       " 'Zur Erklärung für Leser, die kein Walisisch können: Auf Walisisch bedeutet twp schwachköpfig, pwp dagegen Scheiße.',\n",
       " 'Für Leser außerhalb von Wales: Auf Walisisch bedeutet twp bekloppt und pwp bedeutet Scheiße.',\n",
       " 'Ein Plaid-Abgeordneter sagte, dass die Gruppe als Ganzes „nicht glücklich“ sei und Alternativen vorgeschlagen habe.']"
      ]
     },
     "execution_count": 30,
     "metadata": {},
     "output_type": "execute_result"
    }
   ],
   "source": [
    "tt[9:19]"
   ]
  },
  {
   "cell_type": "code",
   "execution_count": 35,
   "id": "brief-foster",
   "metadata": {},
   "outputs": [],
   "source": [
    "n_refs_scores = []\n",
    "for i in range(30):\n",
    "    n_refs_scores.append([1, 2, 5, 1, 2, 1])\n",
    "    \n",
    "n_refs = 3"
   ]
  },
  {
   "cell_type": "code",
   "execution_count": 33,
   "id": "saved-official",
   "metadata": {},
   "outputs": [
    {
     "data": {
      "text/plain": [
       "8.881784197001252e-16"
      ]
     },
     "execution_count": 33,
     "metadata": {},
     "output_type": "execute_result"
    }
   ],
   "source": [
    "means_of_dp_runs = [np.mean(n_refs_scores[j]) for j in range(len(n_refs_scores))]\n",
    "np.std(means_of_dp_runs)"
   ]
  },
  {
   "cell_type": "code",
   "execution_count": 32,
   "id": "static-anchor",
   "metadata": {},
   "outputs": [
    {
     "data": {
      "text/plain": [
       "1.699673171197595"
      ]
     },
     "execution_count": 32,
     "metadata": {},
     "output_type": "execute_result"
    }
   ],
   "source": [
    "np.std(n_refs_scores)"
   ]
  },
  {
   "cell_type": "code",
   "execution_count": 36,
   "id": "comfortable-processing",
   "metadata": {},
   "outputs": [],
   "source": [
    "scores = []\n",
    "stds = []\n",
    "\n",
    "for i in range(0, len(n_refs_scores[0]), n_refs): # iterate through number of samples in model_input\n",
    "    data_slice = np.array(n_refs_scores)[:, i:i+n_refs]\n",
    "    means_of_dp_runs = [np.mean(data_slice[j]) for j in range(len(data_slice))]\n",
    "\n",
    "    scores += [np.mean(means_of_dp_runs)]*n_refs\n",
    "    stds += [np.std(means_of_dp_runs)]*n_refs"
   ]
  },
  {
   "cell_type": "code",
   "execution_count": 37,
   "id": "outstanding-elephant",
   "metadata": {},
   "outputs": [
    {
     "data": {
      "text/plain": [
       "[2.6666666666666674,\n",
       " 2.6666666666666674,\n",
       " 2.6666666666666674,\n",
       " 1.3333333333333337,\n",
       " 1.3333333333333337,\n",
       " 1.3333333333333337]"
      ]
     },
     "execution_count": 37,
     "metadata": {},
     "output_type": "execute_result"
    }
   ],
   "source": [
    "scores"
   ]
  },
  {
   "cell_type": "code",
   "execution_count": 39,
   "id": "owned-spectrum",
   "metadata": {},
   "outputs": [
    {
     "data": {
      "text/plain": [
       "[8.881784197001252e-16,\n",
       " 8.881784197001252e-16,\n",
       " 8.881784197001252e-16,\n",
       " 4.440892098500626e-16,\n",
       " 4.440892098500626e-16,\n",
       " 4.440892098500626e-16]"
      ]
     },
     "execution_count": 39,
     "metadata": {},
     "output_type": "execute_result"
    }
   ],
   "source": [
    "stds"
   ]
  },
  {
   "cell_type": "code",
   "execution_count": null,
   "id": "legal-persian",
   "metadata": {},
   "outputs": [],
   "source": []
  }
 ],
 "metadata": {
  "kernelspec": {
   "display_name": "py37_env",
   "language": "python",
   "name": "py37_env"
  },
  "language_info": {
   "codemirror_mode": {
    "name": "ipython",
    "version": 3
   },
   "file_extension": ".py",
   "mimetype": "text/x-python",
   "name": "python",
   "nbconvert_exporter": "python",
   "pygments_lexer": "ipython3",
   "version": "3.7.5"
  }
 },
 "nbformat": 4,
 "nbformat_minor": 5
}
