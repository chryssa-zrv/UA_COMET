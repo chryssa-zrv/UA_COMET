{
 "cells": [
  {
   "cell_type": "code",
   "execution_count": 2,
   "id": "embedded-thickness",
   "metadata": {},
   "outputs": [],
   "source": [
    "import json \n",
    "import pandas as pd\n",
    "import numpy as np\n",
    "from tqdm import tqdm"
   ]
  },
  {
   "cell_type": "code",
   "execution_count": 3,
   "id": "affecting-boost",
   "metadata": {},
   "outputs": [],
   "source": [
    "with open('/media/hdd1/glushkovato/comet/data/en_de/sources/newstest2019-ende-src.en') as src_file:  \n",
    "    src = [i.strip('\\n') for i in src_file.readlines()]\n",
    "\n",
    "with open('/media/hdd1/glushkovato/comet/data/en_de/system-outputs/newstest2019.Facebook_FAIR.6862.en-de') as mt_file:  \n",
    "    mt = [i.strip('\\n') for i in mt_file.readlines()]\n",
    "    \n",
    "with open('/media/hdd1/glushkovato/comet/data/en_de/references/newstest2019-ende-ref.de') as ref_file:  \n",
    "    ref_original = [i.strip('\\n') for i in ref_file.readlines()]\n"
   ]
  },
  {
   "cell_type": "code",
   "execution_count": 4,
   "id": "stainless-rwanda",
   "metadata": {},
   "outputs": [],
   "source": [
    "# marcus freitag references\n",
    "# https://github.com/google/wmt19-paraphrased-references\n",
    "\n",
    "with open('/media/hdd1/glushkovato/comet/data/en_de/references/wmt19-ende-hqall.ref') as ref_file:  \n",
    "    hqall = [i.strip('\\n') for i in ref_file.readlines()]\n",
    "\n",
    "with open('/media/hdd1/glushkovato/comet/data/en_de/references/wmt19-ende-hqp.ref') as ref_file:  \n",
    "    hqp = [i.strip('\\n') for i in ref_file.readlines()]\n",
    "    \n",
    "with open('/media/hdd1/glushkovato/comet/data/en_de/references/wmt19-ende-hqr.ref') as ref_file:  \n",
    "    hqr = [i.strip('\\n') for i in ref_file.readlines()]\n",
    "    \n",
    "with open('/media/hdd1/glushkovato/comet/data/en_de/references/wmt19-ende-arp.ref') as ref_file:  \n",
    "    arp = [i.strip('\\n') for i in ref_file.readlines()]    \n",
    "    \n",
    "with open('/media/hdd1/glushkovato/comet/data/en_de/references/wmt19-ende-ar.ref') as ref_file:  \n",
    "    ar = [i.strip('\\n') for i in ref_file.readlines()]      \n",
    "    \n",
    "with open('/media/hdd1/glushkovato/comet/data/en_de/references/wmt19-ende-wmtp.ref') as ref_file:  \n",
    "    wmtp = [i.strip('\\n') for i in ref_file.readlines()]   "
   ]
  },
  {
   "cell_type": "code",
   "execution_count": 8,
   "id": "waiting-press",
   "metadata": {},
   "outputs": [],
   "source": [
    "with open('/media/hdd1/glushkovato/comet/data/en_de/sources/src_4refs.txt', 'w') as f:\n",
    "    for i in src:\n",
    "        print(i, file=f)\n",
    "        print(i, file=f)\n",
    "        print(i, file=f)\n",
    "        print(i, file=f)"
   ]
  },
  {
   "cell_type": "code",
   "execution_count": 9,
   "id": "registered-discovery",
   "metadata": {},
   "outputs": [],
   "source": [
    "with open('/media/hdd1/glushkovato/comet/data/en_de/system-outputs/mt_4refs.txt', 'w') as f:\n",
    "    for i in mt:\n",
    "        print(i, file=f)\n",
    "        print(i, file=f)\n",
    "        print(i, file=f)\n",
    "        print(i, file=f)"
   ]
  },
  {
   "cell_type": "code",
   "execution_count": 10,
   "id": "respiratory-estate",
   "metadata": {},
   "outputs": [],
   "source": [
    "with open('/media/hdd1/glushkovato/comet/data/en_de/references/ref_4refs.txt', 'w') as f:\n",
    "    for i in range(len(hqall)):\n",
    "        print(ref_original[i], file=f)\n",
    "        print(ar[i], file=f)\n",
    "        print(arp[i], file=f)\n",
    "        print(wmtp[i], file=f)"
   ]
  },
  {
   "cell_type": "code",
   "execution_count": null,
   "id": "greater-subdivision",
   "metadata": {},
   "outputs": [],
   "source": []
  },
  {
   "cell_type": "code",
   "execution_count": 11,
   "id": "interesting-protection",
   "metadata": {},
   "outputs": [
    {
     "data": {
      "text/plain": [
       "7988"
      ]
     },
     "execution_count": 11,
     "metadata": {},
     "output_type": "execute_result"
    }
   ],
   "source": [
    "with open('/media/hdd1/glushkovato/comet/data/en_de/references/ref_4refs.txt') as test:  \n",
    "    tt = [i.strip('\\n') for i in test.readlines()]\n",
    "    \n",
    "len(tt)"
   ]
  },
  {
   "cell_type": "code",
   "execution_count": 12,
   "id": "cultural-cleaning",
   "metadata": {},
   "outputs": [
    {
     "data": {
      "text/plain": [
       "7988"
      ]
     },
     "execution_count": 12,
     "metadata": {},
     "output_type": "execute_result"
    }
   ],
   "source": [
    "with open('/media/hdd1/glushkovato/comet/data/en_de/sources/src_4refs.txt') as test:  \n",
    "    tt = [i.strip('\\n') for i in test.readlines()]\n",
    "    \n",
    "len(tt)"
   ]
  },
  {
   "cell_type": "code",
   "execution_count": 17,
   "id": "chief-breed",
   "metadata": {},
   "outputs": [
    {
     "data": {
      "text/plain": [
       "7988"
      ]
     },
     "execution_count": 17,
     "metadata": {},
     "output_type": "execute_result"
    }
   ],
   "source": [
    "with open('/media/hdd1/glushkovato/comet/data/en_de/system-outputs/mt_4refs.txt') as test:  \n",
    "    tt = [i.strip('\\n') for i in test.readlines()]\n",
    "    \n",
    "len(tt)"
   ]
  },
  {
   "cell_type": "code",
   "execution_count": 18,
   "id": "republican-bristol",
   "metadata": {},
   "outputs": [
    {
     "data": {
      "text/plain": [
       "['Waliser AMs besorgt darüber, „wie Muppets auszusehen“',\n",
       " 'Waliser AMs besorgt darüber, „wie Muppets auszusehen“',\n",
       " 'Waliser AMs besorgt darüber, „wie Muppets auszusehen“',\n",
       " 'Waliser AMs besorgt darüber, „wie Muppets auszusehen“',\n",
       " 'Bei einigen AMs herrscht Bestürzung über einen Vorschlag, dass ihr Titel in MWPs (Mitglied des walisischen Parlaments) geändert werden sollte.']"
      ]
     },
     "execution_count": 18,
     "metadata": {},
     "output_type": "execute_result"
    }
   ],
   "source": [
    "tt[:5]"
   ]
  },
  {
   "cell_type": "code",
   "execution_count": 33,
   "id": "classical-mechanism",
   "metadata": {},
   "outputs": [
    {
     "data": {
      "text/plain": [
       "0"
      ]
     },
     "execution_count": 33,
     "metadata": {},
     "output_type": "execute_result"
    }
   ],
   "source": [
    "len(wmtp)"
   ]
  },
  {
   "cell_type": "code",
   "execution_count": 23,
   "id": "spoken-adrian",
   "metadata": {},
   "outputs": [],
   "source": [
    "cnt = 0\n",
    "for i in range(len(hqall)):\n",
    "    if ref_original[i] == wmtp[i]:\n",
    "        cnt += 1"
   ]
  },
  {
   "cell_type": "code",
   "execution_count": 24,
   "id": "younger-madrid",
   "metadata": {},
   "outputs": [
    {
     "data": {
      "text/plain": [
       "6"
      ]
     },
     "execution_count": 24,
     "metadata": {},
     "output_type": "execute_result"
    }
   ],
   "source": [
    "cnt"
   ]
  },
  {
   "cell_type": "code",
   "execution_count": 20,
   "id": "communist-ultimate",
   "metadata": {},
   "outputs": [
    {
     "data": {
      "text/plain": [
       "1"
      ]
     },
     "execution_count": 20,
     "metadata": {},
     "output_type": "execute_result"
    }
   ],
   "source": [
    "# cnt (ar[i] == wmtp[i]) or (ar[i] == arp[i]):"
   ]
  },
  {
   "cell_type": "code",
   "execution_count": 18,
   "id": "centered-modification",
   "metadata": {},
   "outputs": [
    {
     "data": {
      "text/plain": [
       "4"
      ]
     },
     "execution_count": 18,
     "metadata": {},
     "output_type": "execute_result"
    }
   ],
   "source": [
    "# cnt (ar[i] == wmtp[i]) or (wmtp[i] == arp[i]):"
   ]
  },
  {
   "cell_type": "code",
   "execution_count": 22,
   "id": "failing-identification",
   "metadata": {},
   "outputs": [
    {
     "data": {
      "text/plain": [
       "927"
      ]
     },
     "execution_count": 22,
     "metadata": {},
     "output_type": "execute_result"
    }
   ],
   "source": [
    "cnt hqp[i] == hqarp[i]"
   ]
  },
  {
   "cell_type": "code",
   "execution_count": null,
   "id": "streaming-judges",
   "metadata": {},
   "outputs": [],
   "source": []
  },
  {
   "cell_type": "code",
   "execution_count": 24,
   "id": "ordered-economics",
   "metadata": {},
   "outputs": [
    {
     "data": {
      "text/plain": [
       "1334"
      ]
     },
     "execution_count": 24,
     "metadata": {},
     "output_type": "execute_result"
    }
   ],
   "source": [
    "cnt"
   ]
  },
  {
   "cell_type": "code",
   "execution_count": 22,
   "id": "crude-brush",
   "metadata": {},
   "outputs": [
    {
     "data": {
      "text/plain": [
       "664"
      ]
     },
     "execution_count": 22,
     "metadata": {},
     "output_type": "execute_result"
    }
   ],
   "source": [
    "cnt"
   ]
  },
  {
   "cell_type": "code",
   "execution_count": null,
   "id": "mental-credit",
   "metadata": {},
   "outputs": [],
   "source": []
  },
  {
   "cell_type": "code",
   "execution_count": 43,
   "id": "aggregate-father",
   "metadata": {},
   "outputs": [
    {
     "data": {
      "text/plain": [
       "'Für große Teile in der Mitte und im Osten der USA wird ein warmer Oktoberanfang erwartet, bei allgemeinen Temperaturen in den 80ern von den Southern Plains bis in Teile des Nordostens.'"
      ]
     },
     "execution_count": 43,
     "metadata": {},
     "output_type": "execute_result"
    }
   ],
   "source": [
    "tt[666]"
   ]
  },
  {
   "cell_type": "code",
   "execution_count": 30,
   "id": "regular-casino",
   "metadata": {},
   "outputs": [
    {
     "data": {
      "text/plain": [
       "['Mitglieder aller Parteien der Nationalversammlung haben Bedenken, dass sie sich dadurch Spott aussetzen könnten.',\n",
       " 'Angehöriger aller der Nationalversammlung angehörigen Parteien befürchten, deshalb verhöhnt zu werden.',\n",
       " 'Mitglieder aller Parteien der Nationalversammlung haben Bedenken, dass sie sich dadurch Spott aussetzen könnten.',\n",
       " 'Ein Labour-Abgeordneter sagte, seine Gruppe sei darüber besorgt, dass es „sich mit Twp und Pwp reime“.',\n",
       " '\"Ein Abgeordneter der Labour-Partei sagte, dass sich dies \"\"auf Twp und Pwp\"\" reime.\"',\n",
       " 'Ein Labour-Abgeordneter sagte, seine Gruppe sei darüber besorgt, dass es „sich mit Twp und Pwp reime“.',\n",
       " 'Für Leser außerhalb von Wales: Auf Walisisch bedeutet twp bekloppt und pwp bedeutet Scheiße.',\n",
       " 'Zur Erklärung für Leser, die kein Walisisch können: Auf Walisisch bedeutet twp schwachköpfig, pwp dagegen Scheiße.',\n",
       " 'Für Leser außerhalb von Wales: Auf Walisisch bedeutet twp bekloppt und pwp bedeutet Scheiße.',\n",
       " 'Ein Plaid-Abgeordneter sagte, dass die Gruppe als Ganzes „nicht glücklich“ sei und Alternativen vorgeschlagen habe.']"
      ]
     },
     "execution_count": 30,
     "metadata": {},
     "output_type": "execute_result"
    }
   ],
   "source": [
    "tt[9:19]"
   ]
  },
  {
   "cell_type": "code",
   "execution_count": null,
   "id": "brief-foster",
   "metadata": {},
   "outputs": [],
   "source": []
  },
  {
   "cell_type": "code",
   "execution_count": null,
   "id": "comfortable-processing",
   "metadata": {},
   "outputs": [],
   "source": []
  }
 ],
 "metadata": {
  "kernelspec": {
   "display_name": "py37_env",
   "language": "python",
   "name": "py37_env"
  },
  "language_info": {
   "codemirror_mode": {
    "name": "ipython",
    "version": 3
   },
   "file_extension": ".py",
   "mimetype": "text/x-python",
   "name": "python",
   "nbconvert_exporter": "python",
   "pygments_lexer": "ipython3",
   "version": "3.7.5"
  }
 },
 "nbformat": 4,
 "nbformat_minor": 5
}
