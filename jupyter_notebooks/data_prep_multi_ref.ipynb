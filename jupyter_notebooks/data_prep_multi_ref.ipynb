{
 "cells": [
  {
   "cell_type": "code",
   "execution_count": 1,
   "id": "analyzed-robertson",
   "metadata": {},
   "outputs": [],
   "source": [
    "import json \n",
    "import pandas as pd\n",
    "import numpy as np\n",
    "from tqdm import tqdm"
   ]
  },
  {
   "cell_type": "code",
   "execution_count": 13,
   "id": "accurate-water",
   "metadata": {},
   "outputs": [
    {
     "data": {
      "text/plain": [
       "1997"
      ]
     },
     "execution_count": 13,
     "metadata": {},
     "output_type": "execute_result"
    }
   ],
   "source": [
    "with open('/media/hdd1/glushkovato/comet/data/en_de/sources/newstest2019-ende-src.en') as src_file:  \n",
    "    src = [i.strip('\\n') for i in src_file.readlines()]\n",
    "\n",
    "with open('/media/hdd1/glushkovato/comet/data/en_de/system-outputs/newstest2019.Facebook_FAIR.6862.en-de') as mt_file:  \n",
    "    mt = [i.strip('\\n') for i in mt_file.readlines()]\n"
   ]
  },
  {
   "cell_type": "code",
   "execution_count": 14,
   "id": "beautiful-enlargement",
   "metadata": {},
   "outputs": [],
   "source": [
    "with open('/media/hdd1/glushkovato/comet/data/en_de/references/wmt19-ende-hqall.ref') as ref_file:  \n",
    "    hqall = [i.strip('\\n') for i in ref_file.readlines()]\n",
    "\n",
    "with open('/media/hdd1/glushkovato/comet/data/en_de/references/wmt19-ende-hqp.ref') as ref_file:  \n",
    "    hqp = [i.strip('\\n') for i in ref_file.readlines()]\n",
    "    \n",
    "with open('/media/hdd1/glushkovato/comet/data/en_de/references/wmt19-ende-hqr.ref') as ref_file:  \n",
    "    hqr = [i.strip('\\n') for i in ref_file.readlines()]"
   ]
  },
  {
   "cell_type": "code",
   "execution_count": null,
   "id": "express-chair",
   "metadata": {},
   "outputs": [],
   "source": []
  },
  {
   "cell_type": "code",
   "execution_count": 31,
   "id": "mounted-beverage",
   "metadata": {},
   "outputs": [],
   "source": [
    "with open('/media/hdd1/glushkovato/comet/data/en_de/sources/src_3refs.txt', 'w') as f:\n",
    "    for i in src:\n",
    "        print(i, file=f)\n",
    "        print(i, file=f)\n",
    "        print(i, file=f)"
   ]
  },
  {
   "cell_type": "code",
   "execution_count": 32,
   "id": "scientific-convertible",
   "metadata": {},
   "outputs": [],
   "source": [
    "with open('/media/hdd1/glushkovato/comet/data/en_de/system-outputs/mt_3refs.txt', 'w') as f:\n",
    "    for i in mt:\n",
    "        print(i, file=f)\n",
    "        print(i, file=f)\n",
    "        print(i, file=f)"
   ]
  },
  {
   "cell_type": "code",
   "execution_count": 33,
   "id": "bacterial-constitution",
   "metadata": {},
   "outputs": [],
   "source": [
    "with open('/media/hdd1/glushkovato/comet/data/en_de/references/ref_3hqrefs.txt', 'w') as f:\n",
    "    for i in range(len(hqall)):\n",
    "        print(hqall[i], file=f)\n",
    "        print(hqp[i], file=f)\n",
    "        print(hqr[i], file=f)"
   ]
  },
  {
   "cell_type": "code",
   "execution_count": 35,
   "id": "offshore-limitation",
   "metadata": {},
   "outputs": [
    {
     "data": {
      "text/plain": [
       "1997.0"
      ]
     },
     "execution_count": 35,
     "metadata": {},
     "output_type": "execute_result"
    }
   ],
   "source": [
    "5991/3"
   ]
  },
  {
   "cell_type": "code",
   "execution_count": 27,
   "id": "reserved-leave",
   "metadata": {},
   "outputs": [
    {
     "data": {
      "text/plain": [
       "5991"
      ]
     },
     "execution_count": 27,
     "metadata": {},
     "output_type": "execute_result"
    }
   ],
   "source": [
    "with open('/media/hdd1/glushkovato/comet/data/en_de/sources/ref_3hqrefs.txt') as test:  \n",
    "    tt = [i.strip('\\n') for i in test.readlines()]\n",
    "    \n",
    "len(tt)"
   ]
  },
  {
   "cell_type": "code",
   "execution_count": 30,
   "id": "above-consciousness",
   "metadata": {},
   "outputs": [
    {
     "data": {
      "text/plain": [
       "['Mitglieder aller Parteien der Nationalversammlung haben Bedenken, dass sie sich dadurch Spott aussetzen könnten.',\n",
       " 'Angehöriger aller der Nationalversammlung angehörigen Parteien befürchten, deshalb verhöhnt zu werden.',\n",
       " 'Mitglieder aller Parteien der Nationalversammlung haben Bedenken, dass sie sich dadurch Spott aussetzen könnten.',\n",
       " 'Ein Labour-Abgeordneter sagte, seine Gruppe sei darüber besorgt, dass es „sich mit Twp und Pwp reime“.',\n",
       " '\"Ein Abgeordneter der Labour-Partei sagte, dass sich dies \"\"auf Twp und Pwp\"\" reime.\"',\n",
       " 'Ein Labour-Abgeordneter sagte, seine Gruppe sei darüber besorgt, dass es „sich mit Twp und Pwp reime“.',\n",
       " 'Für Leser außerhalb von Wales: Auf Walisisch bedeutet twp bekloppt und pwp bedeutet Scheiße.',\n",
       " 'Zur Erklärung für Leser, die kein Walisisch können: Auf Walisisch bedeutet twp schwachköpfig, pwp dagegen Scheiße.',\n",
       " 'Für Leser außerhalb von Wales: Auf Walisisch bedeutet twp bekloppt und pwp bedeutet Scheiße.',\n",
       " 'Ein Plaid-Abgeordneter sagte, dass die Gruppe als Ganzes „nicht glücklich“ sei und Alternativen vorgeschlagen habe.']"
      ]
     },
     "execution_count": 30,
     "metadata": {},
     "output_type": "execute_result"
    }
   ],
   "source": [
    "tt[9:19]"
   ]
  },
  {
   "cell_type": "code",
   "execution_count": null,
   "id": "collective-logging",
   "metadata": {},
   "outputs": [],
   "source": []
  },
  {
   "cell_type": "code",
   "execution_count": null,
   "id": "accomplished-charity",
   "metadata": {},
   "outputs": [],
   "source": []
  }
 ],
 "metadata": {
  "kernelspec": {
   "display_name": "py37_env",
   "language": "python",
   "name": "py37_env"
  },
  "language_info": {
   "codemirror_mode": {
    "name": "ipython",
    "version": 3
   },
   "file_extension": ".py",
   "mimetype": "text/x-python",
   "name": "python",
   "nbconvert_exporter": "python",
   "pygments_lexer": "ipython3",
   "version": "3.7.5"
  }
 },
 "nbformat": 4,
 "nbformat_minor": 5
}
